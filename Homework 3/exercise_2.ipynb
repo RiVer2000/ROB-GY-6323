{
 "cells": [
  {
   "cell_type": "markdown",
   "metadata": {},
   "source": [
    "# Exercise 2\n",
    "Consider the grid-world shown in the below figure. In each (non-grey) cell, it is possible to perform five actions: move up, down, left, right, or do nothing, as long as the resulting move stays inside the grid world. Grey cells are obstacles and are not allowed. We would like to find the optimal value function and optimal policy that minimize the following cost:\n",
    "\n",
    "$$\n",
    "\\min \\sum_{n=0}^{\\infty} \\alpha^n g_n(x_n)\n",
    "$$\n",
    "\n",
    "with discount factor $ \\alpha = 0.99 $ and where the instantaneous cost is defined as:\n",
    "\n",
    "$$\n",
    "g_n(x_n) = \n",
    "\\begin{cases}\n",
    "-1 & \\text{if } x_n \\text{ is a violet cell} \\\\\n",
    "0 & \\text{if } x_n \\text{ is a white cell} \\\\\n",
    "1 & \\text{if } x_n \\text{ is a green cell} \\\\\n",
    "10 & \\text{if } x_n \\text{ is a red cell}\n",
    "\\end{cases}\n",
    "$$\n",
    "\n",
    "In a Jupyter notebook, answer the following questions:\n",
    "\n",
    "**(a)** Implement the value iteration algorithm to solve the problem (initialize the value function to 0). How many iterations does it take to attain convergence? (We assume here that convergence happens when all the elements of the value function do not change more than $ 10^{-6} $ in a new iteration).\n",
    "\n",
    "**(b)** Implement the policy iteration algorithm to solve the problem (use the version that solves the linear equation $ (I - \\alpha A) J_\\mu = \\bar{g} $ ). Start with an initial policy that does not move. How many iterations does it take to converge?\n",
    "\n",
    "**(c)** Compare the solutions and convergence/complexity of each algorithm to solve this problem.\n",
    "\n",
    "![Grid World](img/gridWorld.png)\n"
   ]
  },
  {
   "cell_type": "code",
   "execution_count": 1,
   "metadata": {},
   "outputs": [],
   "source": [
    "# %matplotlib widget\n",
    "\n",
    "import numpy as np\n",
    "import matplotlib.pyplot as plt\n",
    "iterations = 10000\n",
    "tol = 1e-6\n",
    "alpha = 0.99\n",
    "\n",
    "Grid = np.array([[0,      0,      1,  0, -1],\n",
    "                 [0, np.nan,      1,  0, 10],\n",
    "                 [0,     10, np.nan,  1,  0],\n",
    "                 [1,      0,      0, 10, -1]])\n",
    "\n",
    "\n",
    "\n"
   ]
  },
  {
   "cell_type": "code",
   "execution_count": 2,
   "metadata": {},
   "outputs": [],
   "source": [
    "def value_iteration(Grid, iterations, tol, alpha=0.99) -> tuple[np.ndarray, np.ndarray, np.ndarray]:\n",
    "    J_prime = np.zeros((iterations+1, Grid.shape[0], Grid.shape[1]), dtype=float)\n",
    "    J_prime[0] = Grid\n",
    "    norm_list = []\n",
    "    tol_list = []\n",
    "\n",
    "    for i in range(iterations):\n",
    "        for state in range(Grid.size):\n",
    "            x, y = np.unravel_index(state, Grid.shape)\n",
    "            if np.isnan(Grid[x, y]):\n",
    "                J_prime[i, x, y] = np.nan\n",
    "                continue\n",
    "            J_curr = J_prime[i, x, y]\n",
    "            action_up = 0\n",
    "            action_down = 0\n",
    "            action_left = 0\n",
    "            action_right = 0\n",
    "\n",
    "            # Check if the action up is possible and calculate the cost\n",
    "            if x-1 >= 0 and not np.isnan(Grid[x-1, y]):\n",
    "                action_up = J_prime[i, x-1, y]\n",
    "            # Check if the action down is possible and calculate the cost\n",
    "            if x+1 < Grid.shape[0] and not np.isnan(Grid[x+1, y]):\n",
    "                action_down = J_prime[i, x+1, y]\n",
    "            # Check if the action left is possible and calculate the cost\n",
    "            if y-1 >= 0 and not np.isnan(Grid[x, y-1]):\n",
    "                action_left = J_prime[i, x, y-1]\n",
    "            # Check if the action right is possible and calculate the cost\n",
    "            if y+1 < Grid.shape[1] and not np.isnan(Grid[x, y+1]):\n",
    "                action_right = J_prime[i, x, y+1]\n",
    "\n",
    "            # Determine the minimum cost among the possible actions\n",
    "            J_opt = np.inf\n",
    "            J_opt = np.nanmin([J_curr, action_up, action_down, action_left, action_right])\n",
    "\n",
    "            # Update the cost-to-go function\n",
    "            J_prime[i+1, x, y] = Grid[x, y] + alpha * J_opt\n",
    "\n",
    "        ''' \n",
    "        Check again the way the norm is calculated!!! Not sure if it is correct\n",
    "        '''        \n",
    "\n",
    "        # Calculate the norm of the cost-to-go function\n",
    "        norm = np.sqrt(np.nansum(J_prime[i] ** 2))\n",
    "        norm_list.append(norm)\n",
    "        \n",
    "        if i != 0:\n",
    "            current_tol = np.abs(norm_list[i] - norm_list[i-1])\n",
    "            tol_list.append(current_tol)\n",
    "            if current_tol < tol:\n",
    "                print(f\"Converged after {i+1} iterations. Final cost-to-go -\\n{J_prime[i]}\")\n",
    "                break\n",
    "    return J_prime[i], norm_list, tol_list"
   ]
  },
  {
   "cell_type": "code",
   "execution_count": 3,
   "metadata": {},
   "outputs": [
    {
     "name": "stdout",
     "output_type": "stream",
     "text": [
      "Converged after 1520 iterations. Final cost-to-go -\n",
      "[[-95.0794778  -96.0398768  -97.0099768  -98.9999768  -99.9999768 ]\n",
      " [-94.12868279          nan -96.0298768  -98.0099768  -88.9999768 ]\n",
      " [-93.18739573 -82.25552154          nan -97.0099768  -98.9999768 ]\n",
      " [-91.25552154 -90.34296609 -89.4395362  -88.9999768  -99.9999768 ]]\n"
     ]
    },
    {
     "data": {
      "image/png": "[encoded data removed]",
      "text/plain": [
       "<Figure size 500x500 with 1 Axes>"
      ]
     },
     "metadata": {},
     "output_type": "display_data"
    },
    {
     "data": {
      "image/png": "[encoded data removed]",
      "text/plain": [
       "<Figure size 1000x500 with 2 Axes>"
      ]
     },
     "metadata": {},
     "output_type": "display_data"
    }
   ],
   "source": [
    "J_VAL_ITER, J_norm_hist_VAL_ITER, J_TOL_ITER = value_iteration(iterations=iterations, tol=tol, alpha=alpha, Grid=Grid)\n",
    "\n",
    "# Write a function to plot the grid, cost-to-go function, and the tolerance\n",
    "def plot_results(Grid, J_norm_hist_VAL_ITER, J_TOL_ITER):\n",
    "    plt.figure(figsize=(5, 5), layout=\"tight\")\n",
    "    plt.subplot(1, 1, 1)\n",
    "    plt.imshow(Grid, cmap='viridis')\n",
    "    plt.title(\"Grid\")\n",
    "    # plt.colorbar()\n",
    "    plt.figure(figsize=(10, 5), layout=\"tight\")\n",
    "    plt.subplot(2, 1, 1)\n",
    "    plt.plot(J_norm_hist_VAL_ITER)\n",
    "    plt.xlabel(\"Index\")\n",
    "    plt.ylabel(\"Norm of the cost\")\n",
    "    plt.title(\"Convergence of Value Iteration\")\n",
    "    plt.subplot(2, 1, 2)\n",
    "    plt.plot(J_TOL_ITER)\n",
    "    plt.xlabel(\"Index\")\n",
    "    plt.ylabel(\"Tolerance\")\n",
    "    plt.title(\"Tolerance\")\n",
    "    plt.show()\n",
    "\n",
    "plot_results(Grid, J_norm_hist_VAL_ITER, J_TOL_ITER)"
   ]
  },
  {
   "cell_type": "code",
   "execution_count": 4,
   "metadata": {},
   "outputs": [
    {
     "data": {
      "text/plain": [
       "array([[-95.0794778 , -96.0398768 , -97.0099768 , -98.9999768 ,\n",
       "        -99.9999768 ],\n",
       "       [-94.12868279,          nan, -96.0298768 , -98.0099768 ,\n",
       "        -88.9999768 ],\n",
       "       [-93.18739573, -82.25552154,          nan, -97.0099768 ,\n",
       "        -98.9999768 ],\n",
       "       [-91.25552154, -90.34296609, -89.4395362 , -88.9999768 ,\n",
       "        -99.9999768 ]])"
      ]
     },
     "execution_count": 4,
     "metadata": {},
     "output_type": "execute_result"
    }
   ],
   "source": [
    "J_VAL_ITER"
   ]
  },
  {
   "cell_type": "markdown",
   "metadata": {},
   "source": [
    "# Part b"
   ]
  },
  {
   "cell_type": "code",
   "execution_count": null,
   "metadata": {},
   "outputs": [
    {
     "name": "stdout",
     "output_type": "stream",
     "text": [
      "[['Right' 'Right' 'Right' 'Right' 'Stay']\n",
      " ['Up' 'Obstacle' 'Right' 'Up' 'Up']\n",
      " ['Up' 'Left' 'Obstacle' 'Right' 'Down']\n",
      " ['Up' 'Left' 'Left' 'Right' 'Stay']]\n"
     ]
    }
   ],
   "source": [
    "def determine_policy(J_prime: np.ndarray):\n",
    "    policy = np.full(J_prime.shape, 'Obstacle', dtype=object)\n",
    "\n",
    "    for state in range(J_prime.size):\n",
    "        x, y = np.unravel_index(state, J_prime.shape)\n",
    "        if np.isnan(J_prime[x, y]):\n",
    "            continue\n",
    "        J_curr = J_prime[x, y]\n",
    "        \n",
    "        action_up = action_down = action_left = action_right = np.inf\n",
    "\n",
    "        # Check if the action up is possible and calculate the cost\n",
    "        if x-1 >= 0 and not np.isnan(J_prime[x-1, y]):\n",
    "            action_up = J_prime[x-1, y]\n",
    "        # Check if the action down is possible and calculate the cost\n",
    "        if x+1 < J_prime.shape[0] and not np.isnan(J_prime[x+1, y]):\n",
    "            action_down = J_prime[x+1, y]\n",
    "        # Check if the action left is possible and calculate the cost\n",
    "        if y-1 >= 0 and not np.isnan(J_prime[x, y-1]):\n",
    "            action_left = J_prime[x, y-1]\n",
    "        # Check if the action right is possible and calculate the cost\n",
    "        if y+1 < J_prime.shape[1] and not np.isnan(J_prime[x, y+1]):\n",
    "            action_right = J_prime[x, y+1]\n",
    "        \n",
    "        # Find the minimum cost for the possible actions\n",
    "        J_min = np.inf\n",
    "        optimal_action = 'Stay'\n",
    "        if J_curr < J_min and not np.isnan(J_curr):\n",
    "            J_min = J_curr\n",
    "            optimal_action = 'Stay'\n",
    "        if action_up < J_min and not np.isnan(action_up):\n",
    "            J_min = action_up\n",
    "            optimal_action = 'Up'\n",
    "        if action_down < J_min and not np.isnan(action_down):\n",
    "            J_min = action_down\n",
    "            optimal_action = 'Down'\n",
    "        if action_left < J_min and not np.isnan(action_left):\n",
    "            J_min = action_left\n",
    "            optimal_action = 'Left'\n",
    "        if action_right < J_min and not np.isnan(action_right):\n",
    "            J_min = action_right\n",
    "            optimal_action = 'Right'\n",
    "        policy[x, y] = optimal_action\n",
    "\n",
    "    return policy\n",
    "print(determine_policy(J_VAL_ITER))"
   ]
  },
  {
   "cell_type": "code",
   "execution_count": null,
   "metadata": {},
   "outputs": [],
   "source": [
    "def policy_iteration(Grid, iterations, tol, alpha=0.99):\n",
    "    norm_list = []\n",
    "    obstacles = np.zeros((Grid.shape,1))\n",
    "    obstacles[6] = obstacles[12] = 1\n",
    "    A = np.zeros((18,18))\n",
    "    I = np.eye(18)\n",
    "\n",
    "    iterations = 1000\n",
    "    for i in range(iterations):\n",
    "        J_u = np.linalg.inv(I - alpha * A) @ np.delete(Grid, [6, 12])\n",
    "        # insert back the obstacles\n",
    "        J_u = np.insert(J_u, 6, np.nan)\n",
    "        J_u = np.insert(J_u, 12, np.nan)\n",
    "        J_u = J_u.reshape(Grid.shape)\n",
    "        norm = np.sqrt(np.nansum(J_u ** 2))\n",
    "        norm_list.append(norm)\n",
    "\n",
    "        if i != 0:\n",
    "            current_tol = np.abs(norm_list[i] - norm_list[i-1])\n",
    "            if current_tol < tol:\n",
    "                print(f\"Converged after {i+1} iterations. Final cost-to-go -\\n{J_u}\")\n",
    "                break\n",
    "\n",
    "            A = np.zeros((18,18))\n",
    "            enumerate_A = enumerate(iter(A))\n",
    "            for state in range(Grid.size):\n",
    "                x, y = np.unravel_index(state, Grid.shape)\n",
    "                if np.isnan(Grid[x, y]):\n",
    "                    continue\n",
    "                row, col = next(enumerate_A, (None, None))\n",
    "                J_curr = J_u[x, y]\n",
    "                action_up = np.inf\n",
    "                action_down = np.inf\n",
    "                action_left = np.inf\n",
    "                action_right = np.inf\n",
    "\n",
    "                # Check if the action up is possible and calculate the cost\n",
    "                if x-1 >= 0 and not np.isnan(Grid[x-1, y]):\n",
    "                    action_up = J_u[x-1, y]\n",
    "                # Check if the action down is possible and calculate the cost\n",
    "                if x+1 < Grid.shape[0] and not np.isnan(Grid[x+1, y]):\n",
    "                    action_down = J_u[x+1, y]\n",
    "                # Check if the action left is possible and calculate the cost\n",
    "                if y-1 >= 0 and not np.isnan(Grid[x, y-1]):\n",
    "                    action_left = J_u[x, y-1]\n",
    "                # Check if the action right is possible and calculate the cost\n",
    "                if y+1 < Grid.shape[1] and not np.isnan(Grid[x, y+1]):\n",
    "                    action_right = J_u[x, y+1]\n",
    "                \n",
    "                # Determine the minimum cost among the possible actions\n",
    "                J_min = np.inf\n",
    "                optimal_action = ''\n",
    "                if J_curr < J_min and not np.isnan(J_curr):\n",
    "                    J_min = J_curr\n",
    "                    optimal_action = 'Stay'\n",
    "                if action_up < J_min and not np.isnan(action_up):\n",
    "                    J_min = action_up\n",
    "                    optimal_action = 'Up'\n",
    "                if action_down < J_min and not np.isnan(action_down):\n",
    "                    J_min = action_down\n",
    "                    optimal_action = 'Down'\n",
    "                if action_left < J_min and not np.isnan(action_left):\n",
    "                    J_min = action_left\n",
    "                    optimal_action = 'Left'\n",
    "                if action_right < J_min and not np.isnan(action_right):\n",
    "                    J_min = action_right\n",
    "                    optimal_action = 'Right'\n",
    "\n",
    "                A[row, row] = 1\n",
    "\n",
    "\n",
    "        \n",
    "\n"
   ]
  },
  {
   "cell_type": "code",
   "execution_count": 37,
   "metadata": {},
   "outputs": [
    {
     "data": {
      "text/plain": [
       "(18,)"
      ]
     },
     "execution_count": 37,
     "metadata": {},
     "output_type": "execute_result"
    }
   ],
   "source": [
    "A = np.zeros((18,18))\n",
    "I = np.eye(18)\n",
    "alpha = 0.99\n",
    "obstacles = np.zeros(Grid.shape)\n",
    "J_u = np.linalg.inv(I - alpha * A) @ np.delete(Grid, [6, 12])\n",
    "J_u = np.insert(J_u, 6, 1)\n",
    "J_u = np.insert(J_u, 12, 1)\n",
    "\n",
    "Grid.shape\n",
    "np.delete(Grid, [6, 12]).shape\n",
    "\n"
   ]
  }
 ],
 "metadata": {
  "kernelspec": {
   "display_name": "RL",
   "language": "python",
   "name": "rl"
  },
  "language_info": {
   "codemirror_mode": {
    "name": "ipython",
    "version": 3
   },
   "file_extension": ".py",
   "mimetype": "text/x-python",
   "name": "python",
   "nbconvert_exporter": "python",
   "pygments_lexer": "ipython3",
   "version": "3.10.12"
  }
 },
 "nbformat": 4,
 "nbformat_minor": 2
}
