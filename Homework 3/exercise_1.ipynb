{
 "cells": [
  {
   "cell_type": "code",
   "execution_count": 1,
   "metadata": {},
   "outputs": [],
   "source": [
    "from typing  import Tuple, Optional, List\n",
    "from math import inf"
   ]
  },
  {
   "cell_type": "code",
   "execution_count": 2,
   "metadata": {},
   "outputs": [],
   "source": [
    "x_space = [i for i in range(-2,3,1)]\n",
    "u_space = [i for i in range(-1,2,1)]\n",
    "\n"
   ]
  },
  {
   "cell_type": "code",
   "execution_count": null,
   "metadata": {},
   "outputs": [],
   "source": [
    "def update_state(x_n, u_n):\n",
    "    if (-2 <= -x_n + 1 + u_n  <= 2):\n",
    "        x_n1 = -x_n + 1 + u_n \n",
    "    elif (-x_n + 1 + u_n  > 2):\n",
    "        x_n1 = 2\n",
    "    else:\n",
    "        x_n1 = -2\n",
    "    return x_n1\n",
    "\n",
    "def cost(x, u):\n",
    "    return 2*abs(x) + abs(u)\n",
    "\n"
   ]
  },
  {
   "cell_type": "code",
   "execution_count": 4,
   "metadata": {},
   "outputs": [
    {
     "name": "stdout",
     "output_type": "stream",
     "text": [
      "State  J_0        u_0        J_1        u_1        J_2        u_2        J_3       \n",
      "-2     10         0          9          0          8          0          4         \n",
      "-1     6          -1         5          -1         4          -1         1         \n",
      "0      3          -1         2          -1         1          -1         0         \n",
      "1      4          0          3          0          2          0          1         \n",
      "2      7          1          6          1          5          0          4         \n"
     ]
    }
   ],
   "source": [
    "class Opt_Policy:\n",
    "    def __init__(self, state: int, cost: float, control: Optional[int]):\n",
    "        self.state = state  # The state value\n",
    "        self.cost = cost    # The minimum cost for this state\n",
    "        self.control = control  # The optimal control for this state\n",
    "\n",
    "class DP:\n",
    "    def __init__(self, num_stages: int, states: List[int]):\n",
    "        # Initialize memo table as a list of lists, with each list representing a stage\n",
    "        self.memo = [[None for _ in states] for _ in range(num_stages)]\n",
    "        self.num_stages = num_stages\n",
    "        self.states = states\n",
    "\n",
    "    def get_memo_entry(self, stage: int, x: int) -> Optional[Opt_Policy]:\n",
    "        # Retrieve the memo entry for a specific stage and state\n",
    "        state_index = self.states.index(x)\n",
    "        return self.memo[stage][state_index]\n",
    "\n",
    "    def set_memo_entry(self, stage: int, x: int, cost: float, control: Optional[int]):\n",
    "        # Create and store a memo entry for a specific stage and state\n",
    "        state_index = self.states.index(x)\n",
    "        self.memo[stage][state_index] = Opt_Policy(state=x, cost=cost, control=control)\n",
    "\n",
    "    def cost_to_go(self, stage: int, x: int) -> Tuple[float, Optional[int]]:\n",
    "        \"\"\"\n",
    "        Computes the minimum cost to reach the final stage from the given stage and state,\n",
    "        along with the optimal control input.\n",
    "        \"\"\"\n",
    "        # Check if the cost for the current stage and state is already memoized\n",
    "        memo_entry = self.get_memo_entry(stage, x)\n",
    "        if memo_entry is not None:\n",
    "            return memo_entry.cost, memo_entry.control\n",
    "\n",
    "        if stage == self.num_stages - 1:\n",
    "            # Base case: final stage, cost is x squared, no control input\n",
    "            j_min = x ** 2\n",
    "            u_opt = None\n",
    "            self.set_memo_entry(stage, x, j_min, u_opt)\n",
    "            return j_min, u_opt\n",
    "\n",
    "        # Initialize minimum cost to infinity and no optimal control\n",
    "        j_min = inf\n",
    "        u_opt = None\n",
    "\n",
    "        # Iterate through all possible control inputs to find the optimal one\n",
    "        for u_i in u_space:\n",
    "            # Compute the next state based on current state and control input\n",
    "            next_x = update_state(x_n=x, u_n=u_i)\n",
    "            # Compute the total cost: current cost + cost to go from the next state\n",
    "            j_i = cost(x=x, u=u_i) + self.cost_to_go(stage=stage + 1, x=next_x)[0]\n",
    "            # Update the minimum cost and optimal control if a lower cost is found\n",
    "            if j_i < j_min:\n",
    "                j_min = j_i\n",
    "                u_opt = u_i\n",
    "\n",
    "        # Memoize the computed minimum cost and optimal control for the current stage and state\n",
    "        self.set_memo_entry(stage, x, j_min, u_opt)\n",
    "        return j_min, u_opt\n",
    "\n",
    "    def display_costs_and_controls(self):\n",
    "        # Define the header with columns for each stage\n",
    "        header = [\"State\"]\n",
    "        for stage in range(self.num_stages):\n",
    "            header.append(f\"J_{stage}\")\n",
    "            header.append(f\"u_{stage}\")\n",
    "\n",
    "        # Print the header with formatted spacing\n",
    "        print(\"{:<6} {:<10} {:<10} {:<10} {:<10} {:<10} {:<10} {:<10}\".format(*header))\n",
    "\n",
    "        # Iterate through each possible state and compute costs and optimal controls\n",
    "        for x in self.states:\n",
    "            row = [x]\n",
    "            for stage in range(self.num_stages):\n",
    "                j, u = self.cost_to_go(stage=stage, x=x)\n",
    "                row.append(j)\n",
    "                row.append(u)\n",
    "\n",
    "            # Format and print the row with aligned columns\n",
    "            print(\"{:<6} {:<10} {:<10} {:<10} {:<10} {:<10} {:<10} {:<10}\".format(*row))\n",
    "\n",
    "\n",
    "# Example of usage\n",
    "# Assuming X_POSS and U_POSS are defined\n",
    "calculator = CostToGoCalculator(4, x_space)\n",
    "calculator.display_costs_and_controls()\n"
   ]
  }
 ],
 "metadata": {
  "kernelspec": {
   "display_name": "RL",
   "language": "python",
   "name": "rl"
  },
  "language_info": {
   "codemirror_mode": {
    "name": "ipython",
    "version": 3
   },
   "file_extension": ".py",
   "mimetype": "text/x-python",
   "name": "python",
   "nbconvert_exporter": "python",
   "pygments_lexer": "ipython3",
   "version": "3.10.12"
  }
 },
 "nbformat": 4,
 "nbformat_minor": 2
}
